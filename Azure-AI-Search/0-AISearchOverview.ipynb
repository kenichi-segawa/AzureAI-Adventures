{
  "cells": [
    {
      "cell_type": "markdown",
      "metadata": {
        "nteract": {
          "transient": {
            "deleting": false
          }
        }
      },
      "source": [
        "# Overview AI search doc: https://learn.microsoft.com/en-us/python/api/overview/azure/search-documents-readme?view=azure-python"
      ]
    },
    {
      "cell_type": "code",
      "execution_count": 1,
      "metadata": {
        "gather": {
          "logged": 1710610706555
        }
      },
      "outputs": [
        {
          "data": {
            "text/plain": [
              "<SearchClient [endpoint='https://cogsearchbasiceastus.search.windows.net', index='hotels']>"
            ]
          },
          "execution_count": 1,
          "metadata": {},
          "output_type": "execute_result"
        }
      ],
      "source": [
        "import os\n",
        "from azure.core.credentials import AzureKeyCredential\n",
        "from azure.search.documents import SearchClient\n",
        "from dotenv import load_dotenv\n",
        "\n",
        "load_dotenv()\n",
        "\n",
        "# Get the service endpoint and API key from the environment\n",
        "endpoint = os.environ[\"AZURE_SEARCH_SERVICE_ENDPOINT\"]\n",
        "key = os.environ[\"AZURE_SEARCH_ADMIN_KEY\"]\n",
        "\n",
        "index_name = \"hotels\"\n",
        "search_client = SearchClient(endpoint, index_name, AzureKeyCredential(key))\n",
        "search_client"
      ]
    },
    {
      "cell_type": "markdown",
      "metadata": {
        "nteract": {
          "transient": {
            "deleting": false
          }
        }
      },
      "source": [
        "## Create Index "
      ]
    },
    {
      "cell_type": "code",
      "execution_count": 2,
      "metadata": {
        "gather": {
          "logged": 1710610709956
        },
        "jupyter": {
          "outputs_hidden": false,
          "source_hidden": false
        },
        "nteract": {
          "transient": {
            "deleting": false
          }
        }
      },
      "outputs": [
        {
          "data": {
            "text/plain": [
              "<azure.search.documents.indexes.models._index.SearchIndex at 0x7fa9f328eb00>"
            ]
          },
          "execution_count": 2,
          "metadata": {},
          "output_type": "execute_result"
        }
      ],
      "source": [
        "from azure.search.documents.indexes import SearchIndexClient, SearchIndexerClient\n",
        "from azure.search.documents.indexes.models import SearchFieldDataType, CorsOptions, ScoringProfile, SearchIndex, SimpleField, SearchableField, ComplexField\n",
        "from typing import List\n",
        "\n",
        "# what is simplefield, searchablefield, complexfield?\n",
        "# SimpleField: A simple field is a field that holds a single value of a primitive data type. \n",
        "# For example, a field that contains a string, integer, or double value is a simple field.\n",
        "# Simple fields are the most common type of field in an index.\n",
        "\n",
        "# SearchableField: A searchable field is a field that is full-text searchable.\n",
        "# Searchable fields are used to search for text in the field.\n",
        "# For example, a field that contains a description of a product is a searchable field.\n",
        "\n",
        "# ComplexField: A complex field is a field that contains other fields.\n",
        "# Complex fields are used to represent structured data.\n",
        "# For example, a field that contains an address is a complex field.\n",
        "# Complex fields can contain simple fields, searchable fields, and other complex fields.\n",
        "\n",
        "# what is scoring profile\n",
        "# A scoring profile is a set of weights that are used to rank search results.\n",
        "# A scoring profile is used to boost the relevance of certain fields in the search results.\n",
        "# For example, a scoring profile can be used to boost the relevance of the title field in the search results.\n",
        "\n",
        "# what is cors options\n",
        "# CORS (Cross-Origin Resource Sharing) is a security feature that allows web applications to make requests to a different domain.\n",
        "# CORS is used to prevent web applications from making requests to a different domain.\n",
        "\n",
        "Index_client = SearchIndexClient(endpoint, AzureKeyCredential(key))\n",
        "\n",
        "fields = [\n",
        "    SimpleField(name=\"hotelId\", type=SearchFieldDataType.String, key=True),\n",
        "    SimpleField(name=\"baseRate\", type=SearchFieldDataType.Double),\n",
        "    SearchableField(name=\"description\", type=SearchFieldDataType.String, collection=True),\n",
        "    ComplexField(\n",
        "        name=\"address\",\n",
        "        fields=[\n",
        "            SimpleField(name=\"streetAddress\", type=SearchFieldDataType.String),\n",
        "            SimpleField(name=\"city\", type=SearchFieldDataType.String),\n",
        "        ],\n",
        "        collection=True,\n",
        "    ),\n",
        "]\n",
        "cors_options = CorsOptions(allowed_origins=[\"*\"], max_age_in_seconds=60)\n",
        "scoring_profiles: List[ScoringProfile] = []\n",
        "index = SearchIndex(name=index_name, fields=fields, scoring_profiles=scoring_profiles, cors_options=cors_options)\n",
        "\n",
        "result = Index_client.create_index(index)\n",
        "result"
      ]
    },
    {
      "cell_type": "markdown",
      "metadata": {
        "nteract": {
          "transient": {
            "deleting": false
          }
        }
      },
      "source": [
        "## Upload Json Doc to index"
      ]
    },
    {
      "cell_type": "code",
      "execution_count": 3,
      "metadata": {
        "gather": {
          "logged": 1710610726046
        },
        "jupyter": {
          "outputs_hidden": false,
          "source_hidden": false
        },
        "nteract": {
          "transient": {
            "deleting": false
          }
        }
      },
      "outputs": [
        {
          "name": "stdout",
          "output_type": "stream",
          "text": [
            "Upload of new document succeeded: True\n"
          ]
        }
      ],
      "source": [
        "DOCUMENT = [\n",
        "    {\n",
        "        \"hotelId\": \"abc123\",\n",
        "        \"baseRate\": 245.75,\n",
        "        \"description\": [\n",
        "            \"Luxurious suite with ocean view\",\n",
        "            \"Spacious rooms for families\",\n",
        "            \"Cozy cabins in the woods\"\n",
        "        ],\n",
        "        \"address\": [\n",
        "            {\n",
        "                \"streetAddress\": \"123 Main Street\",\n",
        "                \"city\": \"Seaside\"\n",
        "            },\n",
        "            {\n",
        "                \"streetAddress\": \"456 Elm Avenue\",\n",
        "                \"city\": \"Mountainville\"\n",
        "            }\n",
        "        ]\n",
        "    },\n",
        "    {\n",
        "        \"hotelId\": \"xyz789\",\n",
        "        \"baseRate\": 189.50,\n",
        "        \"description\": [\n",
        "            \"Budget-friendly rooms for travelers\",\n",
        "            \"Historic inn with charming decor\"\n",
        "        ],\n",
        "        \"address\": [\n",
        "            {\n",
        "                \"streetAddress\": \"789 Oak Lane\",\n",
        "                \"city\": \"Riverside\"\n",
        "            },\n",
        "            {\n",
        "                \"streetAddress\": \"101 Pine Street\",\n",
        "                \"city\": \"Hillside\"\n",
        "            }\n",
        "        ]\n",
        "    },\n",
        "    {\n",
        "        \"hotelId\": \"pqr456\",\n",
        "        \"baseRate\": 310.25,\n",
        "        \"description\": [\n",
        "            \"Mountain retreat with stunning views\",\n",
        "            \"Rustic log cabins\"\n",
        "        ],\n",
        "        \"address\": [\n",
        "            {\n",
        "                \"streetAddress\": \"789 Forest Road\",\n",
        "                \"city\": \"Woodland\"\n",
        "            },\n",
        "            {\n",
        "                \"streetAddress\": \"222 Summit Drive\",\n",
        "                \"city\": \"Peakville\"\n",
        "            }\n",
        "        ]\n",
        "    },\n",
        "    {\n",
        "        \"hotelId\": \"def789\",\n",
        "        \"baseRate\": 199.99,\n",
        "        \"description\": [\n",
        "            \"Quaint boutique hotel in the heart of the city\",\n",
        "            \"Art deco architecture\"\n",
        "        ],\n",
        "        \"address\": [\n",
        "            {\n",
        "                \"streetAddress\": \"555 Broadway Avenue\",\n",
        "                \"city\": \"Metropolis\"\n",
        "            },\n",
        "            {\n",
        "                \"streetAddress\": \"777 Gallery Street\",\n",
        "                \"city\": \"Artsville\"\n",
        "            }\n",
        "        ]\n",
        "    }\n",
        "]\n",
        "\n",
        "result = search_client.upload_documents(documents=DOCUMENT)\n",
        "\n",
        "print(\"Upload of new document succeeded: {}\".format(result[0].succeeded))"
      ]
    },
    {
      "cell_type": "code",
      "execution_count": 4,
      "metadata": {
        "gather": {
          "logged": 1710610741413
        },
        "jupyter": {
          "outputs_hidden": false,
          "source_hidden": false
        },
        "nteract": {
          "transient": {
            "deleting": false
          }
        }
      },
      "outputs": [
        {
          "name": "stdout",
          "output_type": "stream",
          "text": [
            "Hotel ID: pqr456\n",
            "Base Rate: $310.25\n",
            "Description:\n",
            "  - Mountain retreat with stunning views\n",
            "  - Rustic log cabins\n",
            "Address:\n",
            "  - Street Address: 789 Forest Road\n",
            "    City: Woodland\n",
            "  - Street Address: 222 Summit Drive\n",
            "    City: Peakville\n",
            "\n"
          ]
        }
      ],
      "source": [
        "query = 'Mountain views'\n",
        "\n",
        "results = search_client.search(search_text = query)\n",
        "\n",
        "for result in results:\n",
        "    print(f\"Hotel ID: {result['hotelId']}\")\n",
        "    print(f\"Base Rate: ${result['baseRate']:.2f}\")\n",
        "    print(\"Description:\")\n",
        "    for desc in result['description']:\n",
        "        print(f\"  - {desc}\")\n",
        "    print(\"Address:\")\n",
        "    for addr in result['address']:\n",
        "        print(f\"  - Street Address: {addr['streetAddress']}\")\n",
        "        print(f\"    City: {addr['city']}\")\n",
        "    print()"
      ]
    },
    {
      "cell_type": "code",
      "execution_count": 5,
      "metadata": {
        "gather": {
          "logged": 1710610744167
        },
        "jupyter": {
          "outputs_hidden": false,
          "source_hidden": false
        },
        "nteract": {
          "transient": {
            "deleting": false
          }
        }
      },
      "outputs": [
        {
          "name": "stdout",
          "output_type": "stream",
          "text": [
            "Hotel ID: abc123\n",
            "Base Rate: $245.75\n",
            "Description:\n",
            "  - Luxurious suite with ocean view\n",
            "  - Spacious rooms for families\n",
            "  - Cozy cabins in the woods\n",
            "Address:\n",
            "  - Street Address: 123 Main Street\n",
            "    City: Seaside\n",
            "  - Street Address: 456 Elm Avenue\n",
            "    City: Mountainville\n",
            "\n",
            "Hotel ID: pqr456\n",
            "Base Rate: $310.25\n",
            "Description:\n",
            "  - Mountain retreat with stunning views\n",
            "  - Rustic log cabins\n",
            "Address:\n",
            "  - Street Address: 789 Forest Road\n",
            "    City: Woodland\n",
            "  - Street Address: 222 Summit Drive\n",
            "    City: Peakville\n",
            "\n"
          ]
        }
      ],
      "source": [
        "query = 'Ocean views'\n",
        "\n",
        "results = search_client.search(search_text = query)\n",
        "\n",
        "for result in results:\n",
        "    print(f\"Hotel ID: {result['hotelId']}\")\n",
        "    print(f\"Base Rate: ${result['baseRate']:.2f}\")\n",
        "    print(\"Description:\")\n",
        "    for desc in result['description']:\n",
        "        print(f\"  - {desc}\")\n",
        "    print(\"Address:\")\n",
        "    for addr in result['address']:\n",
        "        print(f\"  - Street Address: {addr['streetAddress']}\")\n",
        "        print(f\"    City: {addr['city']}\")\n",
        "    print()"
      ]
    },
    {
      "cell_type": "code",
      "execution_count": 6,
      "metadata": {
        "gather": {
          "logged": 1710610601856
        },
        "jupyter": {
          "outputs_hidden": false,
          "source_hidden": false
        },
        "nteract": {
          "transient": {
            "deleting": false
          }
        }
      },
      "outputs": [],
      "source": [
        "# !pip install aiohttp"
      ]
    },
    {
      "cell_type": "markdown",
      "metadata": {
        "nteract": {
          "transient": {
            "deleting": false
          }
        }
      },
      "source": [
        "## Async APIs"
      ]
    },
    {
      "cell_type": "code",
      "execution_count": 18,
      "metadata": {
        "gather": {
          "logged": 1710610955972
        },
        "jupyter": {
          "outputs_hidden": false,
          "source_hidden": false
        },
        "nteract": {
          "transient": {
            "deleting": false
          }
        }
      },
      "outputs": [
        {
          "name": "stdout",
          "output_type": "stream",
          "text": [
            "hotelId: abc123 (baseRate 245.75)\n"
          ]
        }
      ],
      "source": [
        "from azure.core.credentials import AzureKeyCredential\n",
        "from azure.search.documents.aio import SearchClient\n",
        "\n",
        "search_client = SearchClient(endpoint, index_name, AzureKeyCredential(key))\n",
        "\n",
        "async def search_hotels():\n",
        "    results = await search_client.search(search_text=\"Ocean\")\n",
        "    async for result in results:\n",
        "        print(f\"hotelId: {result['hotelId']} (baseRate {result['baseRate']:.2f})\")\n",
        "\n",
        "# Call the async function\n",
        "await search_hotels()\n"
      ]
    },
    {
      "cell_type": "markdown",
      "metadata": {
        "nteract": {
          "transient": {
            "deleting": false
          }
        }
      },
      "source": [
        "## Logging \n",
        "This library uses the standard logging library for logging. Basic information about HTTP sessions (URLs, headers, etc.) is logged at INFO level."
      ]
    },
    {
      "cell_type": "code",
      "execution_count": 23,
      "metadata": {
        "gather": {
          "logged": 1710611063127
        },
        "jupyter": {
          "outputs_hidden": false,
          "source_hidden": false
        },
        "nteract": {
          "transient": {
            "deleting": false
          }
        }
      },
      "outputs": [
        {
          "data": {
            "text/plain": [
              "<SearchClient [endpoint='https://cogsearchbasiceastus.search.windows.net', index='hotels']>"
            ]
          },
          "execution_count": 23,
          "metadata": {},
          "output_type": "execute_result"
        }
      ],
      "source": [
        "import sys\n",
        "import logging\n",
        "from azure.core.credentials import AzureKeyCredential\n",
        "\n",
        "# Create a logger for the 'azure' SDK\n",
        "logger = logging.getLogger('azure')\n",
        "logger.setLevel(logging.DEBUG)\n",
        "\n",
        "# Configure a console output\n",
        "handler = logging.StreamHandler(stream=sys.stdout)\n",
        "logger.addHandler(handler)\n",
        "\n",
        "# Initialize the SearchClient with the provided credentials\n",
        "search_client = SearchClient(endpoint, index_name, AzureKeyCredential(key), logging_enable=True)\n",
        "\n",
        "search_client.search(search_text=\"mountain\", logging_enable=True)"
      ]
    },
    {
      "cell_type": "code",
      "execution_count": 24,
      "metadata": {
        "gather": {
          "logged": 1710611071114
        },
        "jupyter": {
          "outputs_hidden": false,
          "source_hidden": false
        },
        "nteract": {
          "transient": {
            "deleting": false
          }
        }
      },
      "outputs": [],
      "source": [
        "Index_client.delete_index(index_name)"
      ]
    }
  ],
  "metadata": {
    "kernel_info": {
      "name": "python310-sdkv2"
    },
    "kernelspec": {
      "display_name": "Python 3.10 - SDK v2",
      "language": "python",
      "name": "python310-sdkv2"
    },
    "language_info": {
      "codemirror_mode": {
        "name": "ipython",
        "version": 3
      },
      "file_extension": ".py",
      "mimetype": "text/x-python",
      "name": "python",
      "nbconvert_exporter": "python",
      "pygments_lexer": "ipython3",
      "version": "3.10.11"
    },
    "microsoft": {
      "host": {
        "AzureML": {
          "notebookHasBeenCompleted": true
        }
      },
      "ms_spell_check": {
        "ms_spell_check_language": "en"
      }
    },
    "nteract": {
      "version": "nteract-front-end@1.0.0"
    }
  },
  "nbformat": 4,
  "nbformat_minor": 2
}
