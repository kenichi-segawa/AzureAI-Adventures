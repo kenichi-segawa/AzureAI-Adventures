{
  "cells": [
    {
      "cell_type": "markdown",
      "source": [
        "## Import require libraries and envrioment variables"
      ],
      "metadata": {}
    },
    {
      "cell_type": "code",
      "source": [
        "pip install -r requirements.txt"
      ],
      "outputs": [
        {
          "output_type": "stream",
          "name": "stdout",
          "text": "Requirement already satisfied: openai==0.28.1 in /anaconda/envs/azureml_py310_sdkv2/lib/python3.10/site-packages (from -r requirements.txt (line 1)) (0.28.1)\nRequirement already satisfied: PyPDF2 in /anaconda/envs/azureml_py310_sdkv2/lib/python3.10/site-packages (from -r requirements.txt (line 2)) (3.0.1)\nRequirement already satisfied: python-dotenv in /anaconda/envs/azureml_py310_sdkv2/lib/python3.10/site-packages (from -r requirements.txt (line 3)) (1.0.0)\nRequirement already satisfied: azure-ai-formrecognizer in /anaconda/envs/azureml_py310_sdkv2/lib/python3.10/site-packages (from -r requirements.txt (line 4)) (3.3.2)\nRequirement already satisfied: langchain==0.0.316 in /anaconda/envs/azureml_py310_sdkv2/lib/python3.10/site-packages (from -r requirements.txt (line 5)) (0.0.316)\nRequirement already satisfied: azure-storage-blob in /anaconda/envs/azureml_py310_sdkv2/lib/python3.10/site-packages (from -r requirements.txt (line 6)) (12.16.0)\nRequirement already satisfied: azure-identity in /anaconda/envs/azureml_py310_sdkv2/lib/python3.10/site-packages (from -r requirements.txt (line 7)) (1.13.0)\nRequirement already satisfied: azure-search-documents==11.4.0b11 in /anaconda/envs/azureml_py310_sdkv2/lib/python3.10/site-packages (from -r requirements.txt (line 8)) (11.4.0b11)\nRequirement already satisfied: requests>=2.20 in /anaconda/envs/azureml_py310_sdkv2/lib/python3.10/site-packages (from openai==0.28.1->-r requirements.txt (line 1)) (2.31.0)\nRequirement already satisfied: tqdm in /anaconda/envs/azureml_py310_sdkv2/lib/python3.10/site-packages (from openai==0.28.1->-r requirements.txt (line 1)) (4.65.0)\nRequirement already satisfied: aiohttp in /anaconda/envs/azureml_py310_sdkv2/lib/python3.10/site-packages (from openai==0.28.1->-r requirements.txt (line 1)) (3.9.1)\nRequirement already satisfied: PyYAML>=5.3 in /anaconda/envs/azureml_py310_sdkv2/lib/python3.10/site-packages (from langchain==0.0.316->-r requirements.txt (line 5)) (6.0)\nRequirement already satisfied: SQLAlchemy<3,>=1.4 in /anaconda/envs/azureml_py310_sdkv2/lib/python3.10/site-packages (from langchain==0.0.316->-r requirements.txt (line 5)) (2.0.16)\nRequirement already satisfied: anyio<4.0 in /anaconda/envs/azureml_py310_sdkv2/lib/python3.10/site-packages (from langchain==0.0.316->-r requirements.txt (line 5)) (3.7.1)\nRequirement already satisfied: async-timeout<5.0.0,>=4.0.0 in /anaconda/envs/azureml_py310_sdkv2/lib/python3.10/site-packages (from langchain==0.0.316->-r requirements.txt (line 5)) (4.0.3)\nRequirement already satisfied: dataclasses-json<0.7,>=0.5.7 in /anaconda/envs/azureml_py310_sdkv2/lib/python3.10/site-packages (from langchain==0.0.316->-r requirements.txt (line 5)) (0.6.4)\nRequirement already satisfied: jsonpatch<2.0,>=1.33 in /anaconda/envs/azureml_py310_sdkv2/lib/python3.10/site-packages (from langchain==0.0.316->-r requirements.txt (line 5)) (1.33)\nRequirement already satisfied: langsmith<0.1.0,>=0.0.43 in /anaconda/envs/azureml_py310_sdkv2/lib/python3.10/site-packages (from langchain==0.0.316->-r requirements.txt (line 5)) (0.0.92)\nRequirement already satisfied: numpy<2,>=1 in /anaconda/envs/azureml_py310_sdkv2/lib/python3.10/site-packages (from langchain==0.0.316->-r requirements.txt (line 5)) (1.25.0)\nRequirement already satisfied: pydantic<3,>=1 in /anaconda/envs/azureml_py310_sdkv2/lib/python3.10/site-packages (from langchain==0.0.316->-r requirements.txt (line 5)) (2.5.3)\nRequirement already satisfied: tenacity<9.0.0,>=8.1.0 in /anaconda/envs/azureml_py310_sdkv2/lib/python3.10/site-packages (from langchain==0.0.316->-r requirements.txt (line 5)) (8.2.3)\nRequirement already satisfied: azure-core<2.0.0,>=1.24.0 in /anaconda/envs/azureml_py310_sdkv2/lib/python3.10/site-packages (from azure-search-documents==11.4.0b11->-r requirements.txt (line 8)) (1.27.1)\nRequirement already satisfied: azure-common~=1.1 in /anaconda/envs/azureml_py310_sdkv2/lib/python3.10/site-packages (from azure-search-documents==11.4.0b11->-r requirements.txt (line 8)) (1.1.28)\nRequirement already satisfied: isodate>=0.6.0 in /anaconda/envs/azureml_py310_sdkv2/lib/python3.10/site-packages (from azure-search-documents==11.4.0b11->-r requirements.txt (line 8)) (0.6.1)\nRequirement already satisfied: msrest>=0.6.21 in /anaconda/envs/azureml_py310_sdkv2/lib/python3.10/site-packages (from azure-ai-formrecognizer->-r requirements.txt (line 4)) (0.7.1)\nRequirement already satisfied: typing-extensions>=4.0.1 in /anaconda/envs/azureml_py310_sdkv2/lib/python3.10/site-packages (from azure-ai-formrecognizer->-r requirements.txt (line 4)) (4.9.0)\nRequirement already satisfied: cryptography>=2.1.4 in /anaconda/envs/azureml_py310_sdkv2/lib/python3.10/site-packages (from azure-storage-blob->-r requirements.txt (line 6)) (41.0.1)\nRequirement already satisfied: msal<2.0.0,>=1.20.0 in /anaconda/envs/azureml_py310_sdkv2/lib/python3.10/site-packages (from azure-identity->-r requirements.txt (line 7)) (1.22.0)\nRequirement already satisfied: msal-extensions<2.0.0,>=0.3.0 in /anaconda/envs/azureml_py310_sdkv2/lib/python3.10/site-packages (from azure-identity->-r requirements.txt (line 7)) (1.0.0)\nRequirement already satisfied: six>=1.12.0 in /anaconda/envs/azureml_py310_sdkv2/lib/python3.10/site-packages (from azure-identity->-r requirements.txt (line 7)) (1.16.0)\nRequirement already satisfied: attrs>=17.3.0 in /anaconda/envs/azureml_py310_sdkv2/lib/python3.10/site-packages (from aiohttp->openai==0.28.1->-r requirements.txt (line 1)) (23.1.0)\nRequirement already satisfied: multidict<7.0,>=4.5 in /anaconda/envs/azureml_py310_sdkv2/lib/python3.10/site-packages (from aiohttp->openai==0.28.1->-r requirements.txt (line 1)) (6.0.4)\nRequirement already satisfied: yarl<2.0,>=1.0 in /anaconda/envs/azureml_py310_sdkv2/lib/python3.10/site-packages (from aiohttp->openai==0.28.1->-r requirements.txt (line 1)) (1.9.4)\nRequirement already satisfied: frozenlist>=1.1.1 in /anaconda/envs/azureml_py310_sdkv2/lib/python3.10/site-packages (from aiohttp->openai==0.28.1->-r requirements.txt (line 1)) (1.3.3)\nRequirement already satisfied: aiosignal>=1.1.2 in /anaconda/envs/azureml_py310_sdkv2/lib/python3.10/site-packages (from aiohttp->openai==0.28.1->-r requirements.txt (line 1)) (1.3.1)\nRequirement already satisfied: idna>=2.8 in /anaconda/envs/azureml_py310_sdkv2/lib/python3.10/site-packages (from anyio<4.0->langchain==0.0.316->-r requirements.txt (line 5)) (3.4)\nRequirement already satisfied: sniffio>=1.1 in /anaconda/envs/azureml_py310_sdkv2/lib/python3.10/site-packages (from anyio<4.0->langchain==0.0.316->-r requirements.txt (line 5)) (1.3.0)\nRequirement already satisfied: exceptiongroup in /anaconda/envs/azureml_py310_sdkv2/lib/python3.10/site-packages (from anyio<4.0->langchain==0.0.316->-r requirements.txt (line 5)) (1.2.0)\nRequirement already satisfied: cffi>=1.12 in /anaconda/envs/azureml_py310_sdkv2/lib/python3.10/site-packages (from cryptography>=2.1.4->azure-storage-blob->-r requirements.txt (line 6)) (1.15.1)\nRequirement already satisfied: marshmallow<4.0.0,>=3.18.0 in /anaconda/envs/azureml_py310_sdkv2/lib/python3.10/site-packages (from dataclasses-json<0.7,>=0.5.7->langchain==0.0.316->-r requirements.txt (line 5)) (3.19.0)\nRequirement already satisfied: typing-inspect<1,>=0.4.0 in /anaconda/envs/azureml_py310_sdkv2/lib/python3.10/site-packages (from dataclasses-json<0.7,>=0.5.7->langchain==0.0.316->-r requirements.txt (line 5)) (0.9.0)\nRequirement already satisfied: jsonpointer>=1.9 in /anaconda/envs/azureml_py310_sdkv2/lib/python3.10/site-packages (from jsonpatch<2.0,>=1.33->langchain==0.0.316->-r requirements.txt (line 5)) (2.4)\nRequirement already satisfied: PyJWT[crypto]<3,>=1.0.0 in /anaconda/envs/azureml_py310_sdkv2/lib/python3.10/site-packages (from msal<2.0.0,>=1.20.0->azure-identity->-r requirements.txt (line 7)) (2.7.0)\nRequirement already satisfied: portalocker<3,>=1.0 in /anaconda/envs/azureml_py310_sdkv2/lib/python3.10/site-packages (from msal-extensions<2.0.0,>=0.3.0->azure-identity->-r requirements.txt (line 7)) (2.7.0)\nRequirement already satisfied: certifi>=2017.4.17 in /anaconda/envs/azureml_py310_sdkv2/lib/python3.10/site-packages (from msrest>=0.6.21->azure-ai-formrecognizer->-r requirements.txt (line 4)) (2023.5.7)\nRequirement already satisfied: requests-oauthlib>=0.5.0 in /anaconda/envs/azureml_py310_sdkv2/lib/python3.10/site-packages (from msrest>=0.6.21->azure-ai-formrecognizer->-r requirements.txt (line 4)) (1.3.1)\nRequirement already satisfied: annotated-types>=0.4.0 in /anaconda/envs/azureml_py310_sdkv2/lib/python3.10/site-packages (from pydantic<3,>=1->langchain==0.0.316->-r requirements.txt (line 5)) (0.6.0)\nRequirement already satisfied: pydantic-core==2.14.6 in /anaconda/envs/azureml_py310_sdkv2/lib/python3.10/site-packages (from pydantic<3,>=1->langchain==0.0.316->-r requirements.txt (line 5)) (2.14.6)\nRequirement already satisfied: charset-normalizer<4,>=2 in /anaconda/envs/azureml_py310_sdkv2/lib/python3.10/site-packages (from requests>=2.20->openai==0.28.1->-r requirements.txt (line 1)) (3.1.0)\nRequirement already satisfied: urllib3<3,>=1.21.1 in /anaconda/envs/azureml_py310_sdkv2/lib/python3.10/site-packages (from requests>=2.20->openai==0.28.1->-r requirements.txt (line 1)) (1.26.16)\nRequirement already satisfied: greenlet!=0.4.17 in /anaconda/envs/azureml_py310_sdkv2/lib/python3.10/site-packages (from SQLAlchemy<3,>=1.4->langchain==0.0.316->-r requirements.txt (line 5)) (2.0.2)\nRequirement already satisfied: pycparser in /anaconda/envs/azureml_py310_sdkv2/lib/python3.10/site-packages (from cffi>=1.12->cryptography>=2.1.4->azure-storage-blob->-r requirements.txt (line 6)) (2.21)\nRequirement already satisfied: packaging>=17.0 in /anaconda/envs/azureml_py310_sdkv2/lib/python3.10/site-packages (from marshmallow<4.0.0,>=3.18.0->dataclasses-json<0.7,>=0.5.7->langchain==0.0.316->-r requirements.txt (line 5)) (23.0)\nRequirement already satisfied: oauthlib>=3.0.0 in /anaconda/envs/azureml_py310_sdkv2/lib/python3.10/site-packages (from requests-oauthlib>=0.5.0->msrest>=0.6.21->azure-ai-formrecognizer->-r requirements.txt (line 4)) (3.2.2)\nRequirement already satisfied: mypy-extensions>=0.3.0 in /anaconda/envs/azureml_py310_sdkv2/lib/python3.10/site-packages (from typing-inspect<1,>=0.4.0->dataclasses-json<0.7,>=0.5.7->langchain==0.0.316->-r requirements.txt (line 5)) (1.0.0)\nNote: you may need to restart the kernel to use updated packages.\n"
        }
      ],
      "execution_count": 34,
      "metadata": {}
    },
    {
      "cell_type": "code",
      "source": [
        "import datetime\n",
        "import io\n",
        "import json\n",
        "import glob\n",
        "import math\n",
        "import os\n",
        "import requests\n",
        "import sys\n",
        "import time\n",
        "import http.client, urllib.parse\n",
        "\n",
        "from azure.identity import DefaultAzureCredential\n",
        "from azure.core.credentials import AzureKeyCredential\n",
        "from azure.search.documents import SearchClient\n",
        "from azure.search.documents.indexes import SearchIndexClient\n",
        "from azure.search.documents.indexes import SearchIndexerClient\n",
        "from azure.search.documents.indexes.models import (\n",
        "    PrioritizedFields,\n",
        "    SearchableField,\n",
        "    SearchField,\n",
        "    SearchFieldDataType,\n",
        "    SearchIndex,\n",
        "    SearchIndexerDataContainer,\n",
        "    SearchIndexerDataSourceConnection,\n",
        "    SemanticConfiguration,\n",
        "    SemanticField,\n",
        "    SemanticSettings,\n",
        "    SimpleField,\n",
        "    VectorSearch,\n",
        "    VectorSearchAlgorithmConfiguration,\n",
        "    SearchIndexer,\n",
        "    FieldMapping,\n",
        "    SplitSkill\n",
        ")\n",
        "from azure.storage.blob import BlobServiceClient\n",
        "from dotenv import load_dotenv\n",
        "\n",
        "load_dotenv()  \n",
        "\n",
        "service_endpoint = os.getenv(\"AZURE_SEARCH_SERVICE_ENDPOINT\")  \n",
        "api_version = os.getenv(\"AZURE_SEARCH_API_VERSION\")\n",
        "key = os.getenv(\"AZURE_SEARCH_ADMIN_KEY\") \n",
        "credential = AzureKeyCredential(key)\n",
        "\n",
        "blob_connection_string = os.getenv(\"AZURE_STORAGE_CONNECTION_STRING\")\n",
        "blob_base_url = os.getenv(\"AZURE_STORAGE_BASE_URL\")\n",
        "container_name = os.getenv(\"AZURE_STORAGE_CONTAINER_NAME\")\n",
        "\n",
        "# Setup the Payloads header for cog search\n",
        "headers = {'Content-Type': 'application/json','api-key': key}\n",
        "params = {'api-version': api_version}"
      ],
      "outputs": [],
      "execution_count": 17,
      "metadata": {}
    },
    {
      "cell_type": "code",
      "source": [
        "sys.version"
      ],
      "outputs": [
        {
          "output_type": "execute_result",
          "execution_count": 18,
          "data": {
            "text/plain": "'3.10.11 (main, May 16 2023, 00:28:57) [GCC 11.2.0]'"
          },
          "metadata": {}
        }
      ],
      "execution_count": 18,
      "metadata": {}
    },
    {
      "cell_type": "code",
      "source": [
        "print(\"Today is\", datetime.datetime.today())"
      ],
      "outputs": [
        {
          "output_type": "stream",
          "name": "stdout",
          "text": "Today is 2024-03-16 05:20:33.175647\n"
        }
      ],
      "execution_count": 19,
      "metadata": {}
    },
    {
      "cell_type": "code",
      "source": [
        "def index_status(index_name):\n",
        "    print(\"Azure Cognitive Search Index:\", index_name, \"\\n\")\n",
        "\n",
        "    index_status = requests.get(\n",
        "        service_endpoint + \"/indexes/\" + index_name, headers=headers, params=params\n",
        "    )\n",
        "    try:\n",
        "        print(json.dumps((index_status.json()), indent=5))\n",
        "    except:\n",
        "        print(\"Request failed\")\n",
        "\n",
        "def index_stats(index_name):\n",
        "    url = (\n",
        "        service_endpoint\n",
        "        + \"/indexes/\"\n",
        "        + index_name\n",
        "        + \"/stats?api-version=\"\n",
        "        + api_version\n",
        "    )\n",
        "    \n",
        "    response = requests.get(url, headers=headers)\n",
        "    print(\"Azure AI Search index status for:\", index_name, \"\\n\")\n",
        "\n",
        "    if response.status_code == 200:\n",
        "        res = response.json()\n",
        "        print(json.dumps(res, indent=2))\n",
        "        document_count = res[\"documentCount\"]\n",
        "        storage_size = res[\"storageSize\"]\n",
        "\n",
        "    else:\n",
        "        print(\"Request failed with status code:\", response.status_code)\n",
        "\n",
        "    return document_count, storage_size\n"
      ],
      "outputs": [],
      "execution_count": 20,
      "metadata": {}
    },
    {
      "cell_type": "markdown",
      "source": [
        "## Connect to Blob Storage\n",
        "\n",
        "Retrieve documents from blob storage. "
      ],
      "metadata": {}
    },
    {
      "cell_type": "code",
      "source": [
        "# connect to blob storage\n",
        "blob_service_client = BlobServiceClient.from_connection_string(blob_connection_string)\n",
        "container_client = blob_service_client.get_container_client(container_name)\n",
        "blobs = container_client.list_blobs()\n",
        "\n",
        "# print the url of each blob\n",
        "for blob in blobs:\n",
        "    blobs_url = container_client.get_blob_client(blob).url\n",
        "    print(blobs_url)"
      ],
      "outputs": [
        {
          "output_type": "stream",
          "name": "stdout",
          "text": "https://ksegawastorage.blob.core.windows.net/kenichi-aisearch-doc-custom/EspressoEssentials_150720.pdf\nhttps://ksegawastorage.blob.core.windows.net/kenichi-aisearch-doc-custom/rao-barista.pdf\n"
        }
      ],
      "execution_count": 21,
      "metadata": {}
    },
    {
      "cell_type": "markdown",
      "source": [
        "## Connect your Blob storage to a data source in Azure AI search"
      ],
      "metadata": {}
    },
    {
      "cell_type": "code",
      "source": [
        "index_name = 'ksegawa-index-w-textsplitchunking'\n",
        "\n",
        "# create a data source\n",
        "# connect to the search service indexer\n",
        "indexer_client = SearchIndexerClient(service_endpoint, credential)\n",
        "\n",
        "# create a data source\n",
        "container = SearchIndexerDataContainer(name=container_name)\n",
        "\n",
        "# create a data source connection\n",
        "data_source_connection = SearchIndexerDataSourceConnection(\n",
        "    name=f\"{index_name}-blob\",\n",
        "    type=\"azureblob\",\n",
        "    connection_string=blob_connection_string,\n",
        "    container=container\n",
        ")\n",
        "\n",
        "# create or update the data source\n",
        "data_source = indexer_client.create_or_update_data_source_connection(data_source_connection)\n",
        "\n",
        "# print the data source\n",
        "print(f\"Data source '{data_source.name}' created or updated\")"
      ],
      "outputs": [
        {
          "output_type": "stream",
          "name": "stdout",
          "text": "Data source 'ksegawa-index-w-textsplitchunking-blob' created or updated\n"
        }
      ],
      "execution_count": 22,
      "metadata": {}
    },
    {
      "cell_type": "markdown",
      "source": [
        "## Create an index"
      ],
      "metadata": {}
    },
    {
      "cell_type": "code",
      "source": [
        "# Create a search index\n",
        "index_client = SearchIndexClient(endpoint=service_endpoint, credential=credential)\n",
        "\n",
        "# define the fields for the index\n",
        "fields = [\n",
        "    SearchField(name=\"parent_id\", type=SearchFieldDataType.String,filterable=True, sortable=True,searchable=True),\n",
        "    SearchField(name=\"content\", type=SearchFieldDataType.String, searchable=True, filterable=True, sortable=True),\n",
        "    SearchField(name=\"title\", type=SearchFieldDataType.String, searchable=True),\n",
        "    SearchField(name=\"chunk_id\",type=SearchFieldDataType.String,key=True,filterable=True,sortable=True,searchable=True,analyzer_name=\"keyword\"),\n",
        "    SearchField(name=\"chunk\",type=SearchFieldDataType.String,searchable=True),\n",
        "]\n",
        "\n",
        "scoring_profiles = []\n",
        "\n",
        "index = SearchIndex(\n",
        "    name=index_name,\n",
        "    fields=fields,\n",
        "    scoring_profiles=scoring_profiles)\n",
        "\n",
        "result = index_client.create_or_update_index(index)\n",
        "result"
      ],
      "outputs": [
        {
          "output_type": "execute_result",
          "execution_count": 23,
          "data": {
            "text/plain": "<azure.search.documents.indexes.models._index.SearchIndex at 0x7f619a41f070>"
          },
          "metadata": {}
        }
      ],
      "execution_count": 23,
      "metadata": {}
    },
    {
      "cell_type": "code",
      "source": [
        "index_status(index_name)"
      ],
      "outputs": [
        {
          "output_type": "stream",
          "name": "stdout",
          "text": "Azure Cognitive Search Index: ksegawa-index-w-textsplitchunking \n\n{\n     \"@odata.context\": \"https://cogsearchbasiceastus.search.windows.net/$metadata#indexes/$entity\",\n     \"@odata.etag\": \"\\\"0x8DC4575C85C4D4B\\\"\",\n     \"name\": \"ksegawa-index-w-textsplitchunking\",\n     \"defaultScoringProfile\": null,\n     \"fields\": [\n          {\n               \"name\": \"parent_id\",\n               \"type\": \"Edm.String\",\n               \"searchable\": true,\n               \"filterable\": true,\n               \"retrievable\": true,\n               \"sortable\": true,\n               \"facetable\": true,\n               \"key\": false,\n               \"indexAnalyzer\": null,\n               \"searchAnalyzer\": null,\n               \"analyzer\": null,\n               \"normalizer\": null,\n               \"dimensions\": null,\n               \"vectorSearchProfile\": null,\n               \"synonymMaps\": []\n          },\n          {\n               \"name\": \"content\",\n               \"type\": \"Edm.String\",\n               \"searchable\": true,\n               \"filterable\": true,\n               \"retrievable\": true,\n               \"sortable\": true,\n               \"facetable\": true,\n               \"key\": false,\n               \"indexAnalyzer\": null,\n               \"searchAnalyzer\": null,\n               \"analyzer\": null,\n               \"normalizer\": null,\n               \"dimensions\": null,\n               \"vectorSearchProfile\": null,\n               \"synonymMaps\": []\n          },\n          {\n               \"name\": \"title\",\n               \"type\": \"Edm.String\",\n               \"searchable\": true,\n               \"filterable\": true,\n               \"retrievable\": true,\n               \"sortable\": true,\n               \"facetable\": true,\n               \"key\": false,\n               \"indexAnalyzer\": null,\n               \"searchAnalyzer\": null,\n               \"analyzer\": null,\n               \"normalizer\": null,\n               \"dimensions\": null,\n               \"vectorSearchProfile\": null,\n               \"synonymMaps\": []\n          },\n          {\n               \"name\": \"chunk_id\",\n               \"type\": \"Edm.String\",\n               \"searchable\": true,\n               \"filterable\": true,\n               \"retrievable\": true,\n               \"sortable\": true,\n               \"facetable\": true,\n               \"key\": true,\n               \"indexAnalyzer\": null,\n               \"searchAnalyzer\": null,\n               \"analyzer\": \"keyword\",\n               \"normalizer\": null,\n               \"dimensions\": null,\n               \"vectorSearchProfile\": null,\n               \"synonymMaps\": []\n          },\n          {\n               \"name\": \"chunk\",\n               \"type\": \"Edm.String\",\n               \"searchable\": true,\n               \"filterable\": true,\n               \"retrievable\": true,\n               \"sortable\": true,\n               \"facetable\": true,\n               \"key\": false,\n               \"indexAnalyzer\": null,\n               \"searchAnalyzer\": null,\n               \"analyzer\": null,\n               \"normalizer\": null,\n               \"dimensions\": null,\n               \"vectorSearchProfile\": null,\n               \"synonymMaps\": []\n          }\n     ],\n     \"scoringProfiles\": [],\n     \"corsOptions\": null,\n     \"suggesters\": [],\n     \"analyzers\": [],\n     \"normalizers\": [],\n     \"tokenizers\": [],\n     \"tokenFilters\": [],\n     \"charFilters\": [],\n     \"encryptionKey\": null,\n     \"similarity\": {\n          \"@odata.type\": \"#Microsoft.Azure.Search.BM25Similarity\",\n          \"k1\": null,\n          \"b\": null\n     },\n     \"semantic\": null,\n     \"vectorSearch\": null\n}\n"
        }
      ],
      "execution_count": 24,
      "metadata": {}
    },
    {
      "cell_type": "markdown",
      "source": [
        "# Create an indexer"
      ],
      "metadata": {}
    },
    {
      "cell_type": "code",
      "source": [
        "# Required to use the preview SDK\n",
        "from azure.search.documents.indexes._generated.models import (\n",
        "    SearchIndexerSkillset,\n",
        "    AzureOpenAIVectorizer,\n",
        "    AzureOpenAIParameters,\n",
        "    SearchIndexerIndexProjections,\n",
        "    SearchIndexerIndexProjectionSelector,\n",
        "    SearchIndexerIndexProjectionsParameters,\n",
        "    InputFieldMappingEntry,\n",
        "    OutputFieldMappingEntry\n",
        ")\n",
        "\n",
        "# Create an indexer\n",
        "indexer_name = f\"{index_name}-indexer\"\n",
        "skillset_name = f\"{index_name}-chunk-skillset\"\n",
        "\n",
        "indexer_client = SearchIndexerClient(service_endpoint, credential)\n",
        "\n",
        "skillset = SearchIndexerSkillset(\n",
        "        name=skillset_name,\n",
        "        skills=[\n",
        "            SplitSkill(\n",
        "                name=\"Text Splitter\",\n",
        "                default_language_code=\"en\",\n",
        "                text_split_mode='pages',\n",
        "                maximum_page_length=2000,\n",
        "                page_overlap_length=500,\n",
        "                context=\"/document\",\n",
        "                inputs=[\n",
        "                    InputFieldMappingEntry(\n",
        "                        name=\"text\",\n",
        "                        source=\"/document/content\"\n",
        "                    )\n",
        "                ],\n",
        "                outputs=[\n",
        "                    OutputFieldMappingEntry(\n",
        "                        name=\"textItems\",\n",
        "                        target_name=\"pages\"\n",
        "                    )\n",
        "                ]\n",
        "            )\n",
        "        ]\n",
        ")\n",
        "            \n",
        "indexer_client.create_or_update_skillset(skillset)\n",
        "            \n",
        "indexer = SearchIndexer(  \n",
        "    name=indexer_name,  \n",
        "    description=\"Indexer to index documents\",  \n",
        "    target_index_name=index_name,  \n",
        "    data_source_name=data_source.name,  \n",
        "    # Map the metadata_storage_name field to the title field in the index to display the PDF title in the search results  \n",
        "    field_mappings=[FieldMapping(source_field_name=\"id\", target_field_name=\"title\")]  \n",
        ")\n",
        "\n",
        "indexer_result = indexer_client.create_or_update_indexer(indexer)\n",
        "\n",
        "# Run the indexer  \n",
        "indexer_client.run_indexer(indexer_name) \n",
        "print(f' {indexer_name} is created and running. If queries return no results, please wait a bit and try again.')"
      ],
      "outputs": [
        {
          "output_type": "stream",
          "name": "stdout",
          "text": " ksegawa-index-w-textsplitchunking-indexer is created and running. If queries return no results, please wait a bit and try again.\n"
        }
      ],
      "execution_count": 27,
      "metadata": {}
    },
    {
      "cell_type": "code",
      "source": [
        "index_stats(index_name)"
      ],
      "outputs": [
        {
          "output_type": "stream",
          "name": "stdout",
          "text": "Azure AI Search index status for: ksegawa-index-w-textsplitchunking \n\n{\n  \"@odata.context\": \"https://cogsearchbasiceastus.search.windows.net/$metadata#Microsoft.Azure.Search.V2023_10_01_Preview.IndexStatistics\",\n  \"documentCount\": 0,\n  \"storageSize\": 0,\n  \"vectorIndexSize\": 0\n}\n"
        },
        {
          "output_type": "execute_result",
          "execution_count": 28,
          "data": {
            "text/plain": "(0, 0)"
          },
          "metadata": {}
        }
      ],
      "execution_count": 28,
      "metadata": {}
    },
    {
      "cell_type": "code",
      "source": [
        "query = \"grinder coffee\"\n",
        "  \n",
        "search_client = SearchClient(service_endpoint, index_name, credential=credential)\n",
        "results = search_client.search(  \n",
        "    search_text=query,  \n",
        "    select=[\"id\", \"content\", \"title\"],\n",
        "    top=1\n",
        ")  \n",
        "  \n",
        "for result in results:  \n",
        "    print(f\"id: {result['id']}\")  \n",
        "    print(f\"content: {result['content']}\")  \n",
        "    print(f\"Score: {result['@search.score']}\")  \n",
        "    print(f\"title: {result['title']}\") "
      ],
      "outputs": [
        {
          "output_type": "stream",
          "name": "stdout",
          "text": "id: aHR0cHM6Ly9rc2VnYXdhc3RvcmFnZS5ibG9iLmNvcmUud2luZG93cy5uZXQva2VuaWNoaS1haXNlYXJjaC1kb2MtY3VzdG9tL0VzcHJlc3NvRXNzZW50aWFsc18xNTA3MjAucGRm0\ncontent: \nThis tutorial \nlooks at espresso \nin detail.\n\nYou will learn:\nWhat an espresso is.\n\nThe meaning of extraction \nand strength in terms of \nespresso.\n\nThe meaning of an Espresso \nrecipe and the components \nof that recipe.\n\nWhat is a Brew Ratio.\n\nHow to dial in an Espresso \nRecipe.\n\nWHAT IS ESPRESSO?\n\nSimply put Espresso is a way of brewing coffee. There are many different \nways to brew coffee such as AeroPress, French Press and Pour Over; this \nparticular brew method produces a complex, concentrated drink, also \nknown as Espresso. \n\nEspresso is brewed by forcing a small amount of pressurised hot water \nthrough finely-ground coffee, using an Espresso Machine. It is made up of:\n\n- Soluble Solids including complex sugars, acids and caffeine that \n  contribute to the taste.\n- Soluble Gases including Co2 that form the aroma of the coffee.\n- Insoluble Solids, which are fragments of the coffee cell wall and coffee          \n  oils that contribute to a silky mouthfeel.\n\nEspresso has two layers; the top layer is known as the ‘Crema’ and is \nformed by Co2 gas surrounded by water; the bottom layer is liquid and \ncontains the unique flavour characteristics of the coffee.\n\nESPRESSO \nFUNDAMENTALS\n\n\n\nESPRESSO RECIPE\n\nAs a barista you need to learn how to take freshly ground coffee and extract the positive flavour attributes and \naromatics, at the right strength and concentration, for the espresso to be sweet, smooth and balanced, with a \nlingering and pleasant aftertaste. \n\nMost coffee roasters nowadays provide guidelines on how to achieve the best from their beans. These guidelines are \npresented in the form of an ‘Espresso Recipe’ that tell you how much coffee to use, the amount of liquid you need to \nextract and the time it takes to extract the shot. An example of an espresso recipe is 20g in, 40g out, 32seconds. Each \nroaster will have a different espresso recipe, depending on the roast profile and origin used to form the blend. The \nimportant thing to note here is that espresso recipes are set out in terms of a double shot of espresso and not the \nsingle shot.\n\nThink of an espresso recipe like any other recipe, for example, when baking a cake it is important to use the same \namount of ingredients each time if you want the cake to always taste the same. If you change the recipe by adding a \nlittle extra sugar or less butter, the taste and texture of the cake will change; it’s the same with coffee. If you follow \nthe espresso recipe, your coffee will taste the same, however, if you change the amount of coffee or water or adjust \nthe time it takes to extract the shot, the coffee will taste completely different. Following an espresso recipe, that is \nrepeatable, is the only way to make consistent coffee and keep your customers coming back for more.\n\nIf you want to become a better barista and make delicious coffee for your customers, it is important to know how \nto dial in an Espresso Recipe and find the sweet spot for the coffee being used. There are three components to an \nEspresso Recipe, all of which have to be measure and controlled:\n\nDOSE: the amount of dry coffee used to brew the coffee.\nYIELD: the amount of liquid in the cup as a double espresso.\nTIME: the time it takes to extract the coffee. \n\nAs well as being a drink in its own right, an espresso is also the foundation and building block of every coffee drink on \nthe café menu and it’s important to get it right. Any coffee machine operator can load ground coffee into a portafilter, \ntamp and extract a shot, however not everyone can produce an espresso that is delicious, sweet and balanced. This \nrequires an understanding of the variable that effect espresso quality, dedication, attention to detail and consistency.\n\n\n\nEXTRACTION YIELD\n\nBefore we look at the components of the Espresso Recipe and how they effect the coffee, it is important to \nunderstand what is meant by the term ‘Extraction’. This is where things start to get a little technical, but it’s \nimportant to understand the following concepts if you want to make great espresso. \n\nWhen brewing espresso not all of the coffee will dissolve and end up in the cup. The espresso ‘Extraction Yield’ refers \nto the amount of dry coffee that dissolves and is communicated as a percentage. For example, if you start with 20g of \ncoffee and 4g is extracted, the extraction yield is 20%. The maximum extraction yield possible is 28%, however most \nespresso extraction yields range between 18-22%.\n\nTo calculate the extraction yield you will need other data, such as the TDS, a fancy term for strength which stands for \n‘Total Dissolved Solids’, discussed later in the tutorial.\n\nThe extraction yield depends on several factors but the rule of thumb is: The greater the contact time between the \nwater and coffee, the higher the extraction yield. \n\nIn terms of the Espresso Recipe, the following applies:\n\nExtraction yield is calculated by using this formula:\nBrewed Coffee (g) x TDS (%) /Dose (g)\n\nExample:\nBrewed Coffee = 36g\nTDS = 10%\nDose = 18g\nExtraction Yield = 36 * 10% /18g = 20%\n\nIf your extraction yield is less than 18% the coffee is ‘under-extracted’, which simply means you haven’t taken \neverything the dry coffee has to give. This type of extraction is generally acidic or sour, with a quick finish. \n\nPercentages over 22% are considered ‘over-extracted’ which means too much dry coffee has ended up in the cup. \nOver-extracted coffee tastes bitter, harsh and sometimes astringent or dry.\n\nThis is quite advanced but worth getting your head around as it will make you a far better barista. Once you have \nan understanding of extraction you can use this knowledge to manipulate the espresso recipe and balance out the \ncoffees acidity, sweetness, bitterness and body. Don’t worry too much about the number themselves; eventually with \npractice, determination and attention to detail, your taste buds will help you dial in an espresso recipe and find the \ncoffees sweet spot.\n\nHigher Extraction\n\nHigher Dose\nMore Water \nFiner Grind\n\nLower Extraction\n\nLower Dose\nLess Water\n\n Coarser Grind\n\n\n\nSTRENGTH\n\nJust a note here about strength. Strength and extraction are not the same and it’s important to understand the \ndifference. Again just a little technical here; TDS or Total Dissolved Solids represent the strength of your espresso and \nis measured using a tool called a Refractometer. TDS is communicated in percentages and ranges from 1-12%, the \nhigher the percentage the stronger the coffee, the lower the concentration of TDS, the weaker the cup.\n\nHigh strength does not necessarily mean high extraction, in fact, more often than not it’s the total opposite. Think \nabout it this way, the more water used to brew coffee, the more you will extract and the higher the extraction yield \nwill be, however at the same time the extra water dilutes the espresso, making it weaker.  \n\nNot every Barista has access to a refractometer, nor do they need one; so how can you evaluate strength without \none? Associate strength with mouthfeel. A strong espresso will have a heavy, thick mouthfeel, whilst weaker espresso \nwill be more tea-like, with a thin, watery body.\n\nEspresso Yields\n\n28g 32g 36g 40g 44g 48g 52g\n\n1 2 3 4 5 6 7\n\nMore Extraction\n\nLess Strength\n\nLess Extraction\n\nMore Strength\n\n\n\nCOMPONENTS OF AN ESPRESSO\n\nDose\n\nThe dose is the starting point for every espresso recipe and refers to the amount of dry coffee used to produce an \nespresso. Most cafes dose between 18-22g of coffee for a double shot.\n\nThink of the dose as the amount of ingredients being used in a cake recipe. The more ingredients you use, the more \ncake you will get. The more dry coffee you use the more espresso you will get and the less dry coffee you use, the \nless espresso you will get. \n\nChanging the dose doesn’t make the coffee taste stronger or weaker, nor does it alter the taste of the espresso, it \nsimply gives you more or less of the same. For this reason, once you have dialled in your dose and are happy with the \namount of extraction you are getting, lock it in and keep it consistent. To make the espresso stronger or weaker or to \nchange the taste of the espresso, adjust the other brewing parameters, i.e. yield and or time.\n\nDose & Basket Size:\n\nBasket sizes are rated by the manufacturer and it’s recommended to use a basket that enables you to dose 1g either \nside of its rating.\n\nIf your basket is too small for the recipe the coffee will sit too high and touch the shower screen. Coffee expands \nwhen hot water is added, so there needs to be enough room or headspace between the coffee and the shower \nscreen to allow for this expansion. If the dose is too high, the coffee will press against the shower screen during \nextraction and the water will not be evenly distributed across the surface of the coffee, resulting in channelling and \nan uneven extraction, making the coffee taste bitter. It will also cause the group heads to become dirtier.\n\nA larger headspace will result in a wet puck, as less water will be absorbed by the coffee. This doesn’t mean the \ncoffee has been unevenly extracted and doesn’t pose a problem other than being messier and harder to clean. If the \npuck is extremely wet your dose is probably towards the lower end of the basket rating and selecting a smaller basket \nwill resolve this issue.\n\nHeadspace\n\nCoffee\n\nBasket\n\nDispersion Block\n& Showerscreen\n\n\n\nIf you have a manual grinder, a better approach is to grind the coffee on-demand or as you need it as this will \nmaximise the freshness of the coffee. This technique, like all aspects of coffee preparation, requires practice to \nbecome consistent. You will need a set of digital scales and a dosing tool if you have one.\n\nSetting the Dose on Manual Grinders :\n\n1. Remove the portafilter from the espresso machine.\n2. Purge the group head.\n3. Dry the portafilter.\n4. Tare off the portafilter on the scales.    \n5. Grind a small amount of coffee into the dosing chamber.\n    TIP = count the number of seconds it takes to grind your coffee.\n6. Dose the coffee into the portafilter forming a slight mound.\n7. Tap the portafilter on the receptor fork of the grinder twice, to settle the grinds, using the same pressure each    \n     time.\n8. Using your finger or dosing tool, sweep across the top of the basket removing excess coffee. \n     This is the part that requires practise to become consistent. \n9. Weigh the dose.\n10. Adjust manually until the target dose is achieved.\n11. Tap the side of the portafilter with your hand to distribute the coffee evenly.\n12. Tamp evenly.\n13. Brew the espresso.\n14. Adjust the grind if required, remembering to purge the grinder of old grinds.\n\nDose & Manual Grinders \n\nManual grinders have a dosing chamber to hold ground coffee and are designed to deliver a set amount of coffee \nwhen the dosing lever is pulled. They are fairly consistent when the dosing chamber is full, however this tends to \nfluctuate and become inconsistent as the amount of ground coffee in the chamber is reduced. These grinders are \nbest suited for high volume cafes where the ground coffee is used quickly.\n\n\n\nDose & Electronic Grinders:\n \nElectronic grinders grind on time and are convenient, fast and enable you to grind fresh coffee to a preset dose.\n\nSetting the Dose on Electronic Grinders :\n\n1. Remove the portafilter from the espresso machine.\n2. Purge the group head.\n3. Dry the portafilter.\n4. Tare off the portafilter on the scales.    \n5. Grind coffee into the portafilter.\n6. Weight the dose.\n7. If the dose needs to be adjusted using this equation to determine what new settings are required: \n    Current Grinding Time/Current Dose) x Target Dose = NEW grind time\n8. Enter programming mode and program new grind time.\n9. Reload the portafilter with the new dose setting and weigh dose.\n10. Repeat until the correct dose is achieved.\n\nElectronic grinders grind on time and it is important to remember that changes made to the grind size will change the \ndose. A finer grind will reduce the dose and a coarser grind will increase the amount of coffee ground hence, \nincreasing the dose. If you make changes to the grind always check to see if your target dose is being maintained. \n\nIf the grind is adjusted, the new grind setting will not appear straight away. Up to 60g of coffee is retained between \nthe grinder burrs and the chute, so always purge the old grinds before settling on your new dose.\n\nYIELD\n\nThis is the second component of an espresso recipe and refers to the weight of the liquid, measured as a double \nespresso, in the cup. In recent years we have started measuring yield in terms of the weight of liquid as opposed to \nthe volume, as it is a more accurate approach. Fresh coffee will produce a thicker crema due to the level of Co2 \npresent in the bean. This Co2 dissipates as the coffee ages, which reduces the amount of crema, therefore the \ndifference in the amount of crema between 7 day old and 21 day old coffee is substantial. A good quality set of digital \nscales will allow you to dial in the yield with greater accuracy.\n\nChanges to the yield or amount of water used to brew the coffee will impact the extraction and strength of the coffee.  \nA higher yield will give you more extraction, yet lower strength. Think of it this way; the more water you use relative to \nthe dose, the greater the extraction, however, the coffee will be more diluted. Conversely, a lower yield will result in a \nlower extraction, but as less water is used, the espresso will be stronger. This is where Brew Ratios come into play.\n\n\n\nThe Brew Ratio is the relationship between the dose and yield, where the yield is a multiple of the dose, expressed \nas DOSE: YIELD. \n\nFor example:\n\n- Dose of 18g with a Yield of 36g is a multiple of 2 or 1:2 brew ratio.\n- Dose of 18g with a Yield of 54g is a multiple of 2 or 1:3 brew ratio.\n- Dose of 21g with a Yield of 42g is a multiple of 2 or 1:2 brew ratio.\n- Dose of 21g with a Yield of 63g is a multiple of 3 or 1:3 brew ratio.\n\nThe smaller the brew ratio the stronger and less extracted the espresso will be. The higher the multiple or brew \nratio, the weaker and more extracted the espresso will be, as more water is used to extract the coffee, diluting the \nstrength.\n\nMost espresso coffee tastes the best with a brew ratio ranging between 1:1.5 -  2:2.5. \n\n- A brew ratio of 1:1 represents a Ristretto. This shot will be intense with heavy body, strong and under-extracted.\n- A brew ratio of 1:2 represents Normale and is in espresso territory. This shot will have a medium body, balanced   \n  and sweet.\n- A brew ratio of 1:3 represents a Lungo. This shot will be weak, thin body, delicate and possibly dry.\n\nThe yield can either be programmed into the volumetric settings of the espresso machine or controlled manually by \nthe barista. For ease of use and efficiency, it is good practice to program the espresso machine to deliver the correct \nyield. It is important to check the yield during the morning calibration to ensure the espresso machine is delivering \nthe required amount of water.\n\nYield, Dose and Basket Size:\n\nSo how strong do you want your milk drinks to be? Well, that all depends on your cup size. \n\nLooking at the example above using a 1:2 brew ratio, the yield produced from a 21g basket is 6g more than the yield \nproduced from an 18g basket. This equates to 17% more espresso in the cup simply by using a larger basket and \ndose. If the cup size is the same, the larger basket with a larger yield will be stronger when topped with milk, so make \nsure your basket size complements your cup size, otherwise you may end up with an incredibly milky and weak drink \nor one that isn’t nicely balanced.\n\nChecking the YIELD:\n\n1. Grind, dose, distribute and tamp coffee into the filter basket.\n2. Tare off a cup on a set of scales.\n3. Place the cup underneath the group head.\n4. Insert the group handle into the espresso machine  and activate the brew button.\n5. Take note of the finished weight and compare it to the espresso recipe.\n\n\n\nTIME\n\nOnce you have locked away the dose and yield, the brewing time is the final component of an espresso recipe. Brew \ntime is measured in seconds from the moment the brew cycle is activated, until the pump stops and will generally \nrange between 20-35 seconds, depending on the roast profile. Darker roasts prefer shorter brew times as they are \neasier to extract than lighter roasts. Adjusting the brew time by adjusting the grind, will enable you to fine-tune this \npart of the espresso recipe and find the coffees sweet spot. \n\nSo Why Does the Grind Size Matter:\n\nThe partial size of the coffee or the grind size as it’s known, will determine the contact time between the coffee and \nwater.\n\nTo help you understand how the grind size effects the brew time, consider the grind as either pebble or sand, where \nthe pebbles represent a coarser grind and sand a finer grind. If the pebbles are placed in one bucket and the sand in \nanother and water poured over them at the same time, the water will pass through the pebbles faster, simply \nbecause there is more space between the pebbles than the sand. So in terms of time, a coarser grind will give you a \nfaster brew time and a finer grind will give you a slower brew time.\n\nWater Water\n\nFaster/Coarse Slower/Fine\n\n\n\nThe grind size is related to the position of the grinder blades. The closer the blades, the finer the grind and the fur-\nther apart, the coarser the grind. Only make small incremental adjustments at a time as this will fast track your \nunderstanding of the grinder and enable you to be more accurate and efficient when making adjustments in the \nfuture.\n\nKeep in mind that grinders retain coffee between the blades and the chute, which means the new grind will not come \nthrough immediately. It can take up to 3 shots for the new grind setting to appear, so make sure you purge out the \nold grinds before evaluating the new grind level.\n\nOver-extracted: If your coffee is tasting bitter, astringent or paper and harsh, it is over-extracted. This occurs when \ntoo many soluble flavours have been taken out of the coffee, as well as other chemical components found in coffee. \nSelecting a coarser grind will reduce the level of extraction, allowing for more sweetness and balance.\n\nUnder-extracted: If your coffee is tasting salty has an aggressive sourness and a short finish it is under-extracted. This \noccurs when not enough has been extracted and there is a lot leftover that could help balance out the cup. Selecting \na finer grind will lengthen the contact time between the coffee and water, therefore the level of extraction, allowing \nfor more sweetness and balance.\n\nOnce you have dialled in the recipe to the target numbers, it is time to taste the espresso and make final \nadjustments. The goal is a sweet, well balanced, delicious espresso. \n\nFor example:\n\nThe recipe for the coffee is 20g in, 40g out, with a brew time of 30 seconds. \n\nFirst Shot:\nThe first shot extracts in 25 seconds, however, it is acidic, flat and short finish. Adjusting to a finer grind will increase \ncontact time and extraction. \n\nSecond Shot:\nThe second shot extracts in 27 seconds. The coffee has a bright acidity and some sweetness, but potentially you \ncould achieve more sweetness and balance. Adjusting finer again will increase contact time and extraction.\n\nThird Shot:\nThe third shot extracts in 29 seconds. The coffee now has a pleasant acidity, more sweetness, balanced with a long \npleasant finish. But could you achieve more sweetness? \n\nFourth Shot:\nAfter adjusting the grind again the fourth shot extracts in 31 seconds. This time the acidity is softer and the coffee is \nstill sweet, however there is a distinct bitterness that wasn’t present before.\n\nBased on the results the optimum brew time for the espresso is 29 seconds. \n\nUNDER IDEAL OVER\n\nSour\n\nLacking\nSweet\n\nSalty\n\nQuick\nFinish\n\nSweet!\n\nRipe\n\nTransparent\n\nComplex\nAcidity\n\nFinishhhhhhh\n\nBitter\n\nDry\n\nAstringent\n\nHollow\n\nEmpty\n\n\n\nWhat are the 3 components of an espresso recipe?\n\no  Dose\n       o  Strength\n\no  Time\no  Milk\no  Yield\n\nWhat should you set first when dialling in a recipe:\n\no  Yield\no  Dose\no  Time\n\nIs the brew ratio the relationship between:\n\no  Dose and yield\no  Dose and grind\no  Grind and time\n\nWhich brew ratio will give you a stronger coffee:\n\no  1:3\n   o  1:2.5\n\no  1:1\n\nQUIZ\n\n\n\nScore: 1.1407058\ntitle: None\n"
        }
      ],
      "execution_count": 48,
      "metadata": {}
    },
    {
      "cell_type": "code",
      "source": [
        "results = search_client.search(  \n",
        "    search_text=query,  \n",
        "    select=[\"parent_id\", \"chunk_id\", \"chunk\"],\n",
        "    top=1\n",
        ")  \n",
        "  \n",
        "for result in results:  \n",
        "    print(f\"parent_id: {result['parent_id']}\")  \n",
        "    print(f\"chunk_id: {result['chunk_id']}\")  \n",
        "    print(f\"Score: {result['@search.score']}\")  \n",
        "    print(f\"Content: {result['chunk']}\") "
      ],
      "outputs": [],
      "execution_count": null,
      "metadata": {}
    },
    {
      "cell_type": "code",
      "source": [],
      "outputs": [],
      "execution_count": null,
      "metadata": {}
    },
    {
      "cell_type": "code",
      "source": [
        "index_client.delete_index(index_name)\n",
        "index_client.delete_indexer(indexer_name)\n",
        "index_client.delete_skillset(skillset_name)"
      ],
      "outputs": [],
      "execution_count": null,
      "metadata": {}
    },
    {
      "cell_type": "code",
      "source": [],
      "outputs": [],
      "execution_count": null,
      "metadata": {}
    }
  ],
  "metadata": {
    "kernelspec": {
      "display_name": "Python 3.10 - SDK v2",
      "language": "python",
      "name": "python310-sdkv2"
    },
    "language_info": {
      "codemirror_mode": {
        "name": "ipython",
        "version": 3
      },
      "file_extension": ".py",
      "mimetype": "text/x-python",
      "name": "python",
      "nbconvert_exporter": "python",
      "pygments_lexer": "ipython3",
      "version": "3.10.11"
    },
    "microsoft": {
      "ms_spell_check": {
        "ms_spell_check_language": "en"
      }
    },
    "nteract": {
      "version": "nteract-front-end@1.0.0"
    }
  },
  "nbformat": 4,
  "nbformat_minor": 2
}